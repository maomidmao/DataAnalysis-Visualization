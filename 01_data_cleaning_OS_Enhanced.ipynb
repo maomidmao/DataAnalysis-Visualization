{
  "cells": [
    {
      "cell_type": "markdown",
      "metadata": {
        "id": "TSZfHNRDQrZR"
      },
      "source": [
        "## IMPORT : RAW.DATA\n",
        "\n",
        "1.  **Create a DataFrame:** Create a Pandas DataFrame from the data"
      ]
    },
    {
      "cell_type": "markdown",
      "metadata": {
        "id": "XaFmFb0AQrZS"
      },
      "source": [
        "## 🧠 OS Concepts Integration: Process Scheduling, Memory Management, and File I/O"
      ]
    },
    {
      "cell_type": "code",
      "source": [
        "import psutil\n",
        "import os\n",
        "import time\n",
        "import multiprocessing\n",
        "import mmap\n",
        "import pandas as pd\n",
        "import threading\n",
        "import matplotlib.pyplot as plt"
      ],
      "metadata": {
        "id": "5PsjFCp5XtS4"
      },
      "execution_count": null,
      "outputs": []
    },
    {
      "cell_type": "code",
      "source": [
        "# ✅ Plotting function for comparison\n",
        "def plot_results(timings):\n",
        "    labels = []\n",
        "    times = []\n",
        "    for method, time_taken in timings:\n",
        "        labels.append(method)\n",
        "        times.append(time_taken)\n",
        "\n",
        "    plt.figure(figsize=(6, 4))\n",
        "    plt.bar(labels, times, color=['skyblue', 'lightgreen'])\n",
        "    plt.ylabel('Time (seconds)')\n",
        "    plt.title('Read Method Performance Comparison')\n",
        "    plt.savefig(\"performance_comparison.png\")\n",
        "    print(\"[📊] Plot saved as performance_comparison.png\")"
      ],
      "metadata": {
        "id": "TDiR7btMX8_S"
      },
      "execution_count": null,
      "outputs": []
    },
    {
      "cell_type": "code",
      "source": [
        "# ✅ Utility: Memory and CPU usage logger\n",
        "def log_memory_cpu(tag, output_queue):\n",
        "    process = psutil.Process(os.getpid())\n",
        "    mem_mb = process.memory_info().rss / 1024 ** 2\n",
        "    cpu_percent = process.cpu_percent(interval=0.1)\n",
        "    output_queue.put(f\"[{tag}] Memory: {mem_mb:.2f} MB | CPU: {cpu_percent:.2f}%\")"
      ],
      "metadata": {
        "id": "PtzUpMEgXuVH"
      },
      "execution_count": null,
      "outputs": []
    },
    {
      "cell_type": "code",
      "source": [
        "# ✅ Resource monitoring (3 seconds)\n",
        "def monitor_resources(output_queue, duration=3):\n",
        "    process = psutil.Process(os.getpid())\n",
        "    for i in range(duration):\n",
        "        mem = process.memory_info().rss / 1024 ** 2\n",
        "        cpu = process.cpu_percent(interval=1)\n",
        "        output_queue.put(f\"[Monitor {i+1}] Memory: {mem:.2f} MB | CPU: {cpu:.2f}%\")"
      ],
      "metadata": {
        "id": "sd_8B33-X1JU"
      },
      "execution_count": null,
      "outputs": []
    },
    {
      "cell_type": "code",
      "source": [
        "# ✅ Process 1: Load CSV with pandas and monitor resources\n",
        "def load_data(output_queue, timing_queue):\n",
        "    try:\n",
        "        monitor_thread = threading.Thread(target=monitor_resources, args=(output_queue, 3))\n",
        "        monitor_thread.start()\n",
        "\n",
        "        log_memory_cpu(\"Before reading CSV\", output_queue)\n",
        "        start = time.time()\n",
        "\n",
        "        if not os.path.exists(\"raw_data.csv\"):\n",
        "            output_queue.put(\"[ERROR] raw_data.csv not found.\")\n",
        "            return\n",
        "\n",
        "        df = pd.read_csv(\"raw_data.csv\")\n",
        "\n",
        "        elapsed = time.time() - start\n",
        "        log_memory_cpu(\"After reading CSV\", output_queue)\n",
        "        output_queue.put(f\"[Pandas] CSV loaded in {elapsed:.4f} seconds\")\n",
        "        timing_queue.put((\"pandas\", elapsed))\n",
        "\n",
        "        monitor_thread.join()\n",
        "\n",
        "    except Exception as e:\n",
        "        output_queue.put(f\"[ERROR] Pandas read failed: {str(e)}\")"
      ],
      "metadata": {
        "id": "kuTRfyJWX3P_"
      },
      "execution_count": null,
      "outputs": []
    },
    {
      "cell_type": "code",
      "source": [
        "# ✅ Process 2: mmap reading (full file)\n",
        "def mmap_read(output_queue, timing_queue):\n",
        "    try:\n",
        "        start = time.time()\n",
        "        if not os.path.exists(\"raw_data.csv\"):\n",
        "            output_queue.put(\"[ERROR] raw_data.csv not found.\")\n",
        "            return\n",
        "\n",
        "        with open(\"raw_data.csv\", 'r') as f:\n",
        "            with mmap.mmap(f.fileno(), length=0, access=mmap.ACCESS_READ) as mm:\n",
        "                content = mm.read()  # ✅ Read entire file content\n",
        "                text = content.decode(errors='ignore')  # decode bytes to string\n",
        "\n",
        "                output_queue.put(\"[mmap] Full file read successfully.\")\n",
        "                output_queue.put(f\"[mmap] Total bytes read: {len(content)}\")\n",
        "\n",
        "        elapsed = time.time() - start\n",
        "        output_queue.put(f\"[mmap] Read completed in {elapsed:.4f} seconds\")\n",
        "        timing_queue.put((\"mmap\", elapsed))\n",
        "\n",
        "    except Exception as e:\n",
        "        output_queue.put(f\"[ERROR] mmap read failed: {str(e)}\")"
      ],
      "metadata": {
        "id": "9bNaoXRiX5rw"
      },
      "execution_count": null,
      "outputs": []
    },
    {
      "cell_type": "code",
      "source": [
        "# ✅ Process 3: Buffered reading method\n",
        "def buffered_read(output_queue, timing_queue, buffer_size=1024):\n",
        "    try:\n",
        "        start = time.time()\n",
        "        if not os.path.exists(\"raw_data.csv\"):\n",
        "            output_queue.put(\"[ERROR] raw_data.csv not found.\")\n",
        "            return\n",
        "\n",
        "        total_bytes = 0\n",
        "        with open(\"raw_data.csv\", 'r', buffering=buffer_size) as f:\n",
        "            while True:\n",
        "                chunk = f.read(buffer_size)\n",
        "                if not chunk:\n",
        "                    break\n",
        "                total_bytes += len(chunk)\n",
        "\n",
        "        elapsed = time.time() - start\n",
        "        output_queue.put(f\"[Buffered] Total bytes read: {total_bytes}\")\n",
        "        output_queue.put(f\"[Buffered] Read completed in {elapsed:.4f} seconds\")\n",
        "        timing_queue.put((\"buffered\", elapsed))\n",
        "\n",
        "    except Exception as e:\n",
        "        output_queue.put(f\"[ERROR] Buffered read failed: {str(e)}\")\n"
      ],
      "metadata": {
        "id": "nCqXzkdTCrXw"
      },
      "execution_count": null,
      "outputs": []
    },
    {
      "cell_type": "code",
      "source": [
        "# ✅ Main execution\n",
        "if __name__ == '__main__':\n",
        "    output_queue1 = multiprocessing.Queue()\n",
        "    output_queue2 = multiprocessing.Queue()\n",
        "    output_queue3 = multiprocessing.Queue()\n",
        "    timing_queue = multiprocessing.Queue()\n",
        "\n",
        "    print(\"\\n[PROCESS SCHEDULING] Starting subprocesses...\")\n",
        "\n",
        "    p1 = multiprocessing.Process(target=load_data, args=(output_queue1, timing_queue))\n",
        "    p2 = multiprocessing.Process(target=mmap_read, args=(output_queue2, timing_queue))\n",
        "    p3 = multiprocessing.Process(target=buffered_read, args=(output_queue3, timing_queue))\n",
        "    p1.start()\n",
        "    p2.start()\n",
        "    p3.start()\n",
        "    p1.join()\n",
        "    p2.join()\n",
        "    p3.join()\n",
        "\n",
        "    print(\"\\n--- Pandas CSV Load Outputs ---\")\n",
        "    while not output_queue1.empty():\n",
        "        print(output_queue1.get())\n",
        "\n",
        "    print(\"\\n--- mmap File Read Outputs ---\")\n",
        "    while not output_queue2.empty():\n",
        "      print(output_queue2.get())\n",
        "\n",
        "    print(\"\\n--- Buffered File Read Outputs ---\")\n",
        "    while not output_queue3.empty():\n",
        "      print(output_queue3.get())\n",
        "\n",
        "\n",
        "    # Collect timings for plotting\n",
        "    timings = []\n",
        "    while not timing_queue.empty():\n",
        "        timings.append(timing_queue.get())\n",
        "\n",
        "    # ✅ Plot the comparison\n",
        "    plot_results(timings)\n",
        "\n",
        "    print(\"\\n[DONE] All subprocesses completed with visualization.\")\n"
      ],
      "metadata": {
        "colab": {
          "base_uri": "https://localhost:8080/",
          "height": 773
        },
        "id": "Wd-6curbROL0",
        "outputId": "38838bb4-50ea-4bb3-8ded-33a2e87d48d0"
      },
      "execution_count": null,
      "outputs": [
        {
          "output_type": "stream",
          "name": "stdout",
          "text": [
            "\n",
            "[PROCESS SCHEDULING] Starting subprocesses...\n",
            "\n",
            "--- Pandas CSV Load Outputs ---\n",
            "[Before reading CSV] Memory: 114.50 MB | CPU: 0.00%\n",
            "[After reading CSV] Memory: 120.36 MB | CPU: 0.00%\n",
            "[Pandas] CSV loaded in 0.0195 seconds\n",
            "[Monitor 1] Memory: 114.50 MB | CPU: 2.00%\n",
            "[Monitor 2] Memory: 120.39 MB | CPU: 0.00%\n",
            "[Monitor 3] Memory: 120.39 MB | CPU: 0.00%\n",
            "\n",
            "--- mmap File Read Outputs ---\n",
            "[mmap] Full file read successfully.\n",
            "[mmap] Total bytes read: 48717\n",
            "[mmap] Read completed in 0.0014 seconds\n",
            "\n",
            "--- Buffered File Read Outputs ---\n",
            "[Buffered] Total bytes read: 48717\n",
            "[Buffered] Read completed in 0.0004 seconds\n",
            "[📊] Plot saved as performance_comparison.png\n",
            "\n",
            "[DONE] All subprocesses completed with visualization.\n"
          ]
        },
        {
          "output_type": "display_data",
          "data": {
            "text/plain": [
              "<Figure size 600x400 with 1 Axes>"
            ],
            "image/png": "[encoded data removed]"
          },
          "metadata": {}
        }
      ]
    },
    {
      "cell_type": "code",
      "execution_count": null,
      "metadata": {
        "vscode": {
          "languageId": "plaintext"
        },
        "id": "uM0tF719QrZT",
        "outputId": "98be2f1d-ab1f-491e-dc10-a8f9b9fba709",
        "colab": {
          "base_uri": "https://localhost:8080/"
        }
      },
      "outputs": [
        {
          "output_type": "stream",
          "name": "stdout",
          "text": [
            "CSV file loaded successfully using buffered reader and pandas!\n"
          ]
        }
      ],
      "source": [
        "import io\n",
        "import pandas as pd\n",
        "import os\n",
        "\n",
        "try:\n",
        "    file_path = 'raw_data.csv'\n",
        "\n",
        "    if not os.path.exists(file_path):\n",
        "        raise FileNotFoundError\n",
        "\n",
        "    buffer_size = 1024  # You can tune this if needed\n",
        "    file_content = \"\"\n",
        "\n",
        "    with open(file_path, 'r', buffering=buffer_size) as f:\n",
        "        while True:\n",
        "            chunk = f.read(buffer_size)\n",
        "            if not chunk:\n",
        "                break\n",
        "            file_content += chunk\n",
        "\n",
        "    # ✅ Convert the buffered content to a DataFrame\n",
        "    df = pd.read_csv(io.StringIO(file_content))\n",
        "\n",
        "    print(\"CSV file loaded successfully using buffered reader and pandas!\")\n",
        "\n",
        "except FileNotFoundError:\n",
        "    print(\"Error: 'raw_data.csv' not found. Please make sure the file is in the same directory or provide the correct path.\")\n",
        "    exit()\n"
      ]
    },
    {
      "cell_type": "code",
      "execution_count": null,
      "metadata": {
        "id": "ImHoTxsAQrZU",
        "outputId": "2b20fadf-e24a-4267-ae19-a466c38f5b28",
        "colab": {
          "base_uri": "https://localhost:8080/"
        }
      },
      "outputs": [
        {
          "output_type": "stream",
          "name": "stdout",
          "text": [
            "\n",
            "Info about the data types:\n",
            "<class 'pandas.core.frame.DataFrame'>\n",
            "RangeIndex: 1100 entries, 0 to 1099\n",
            "Data columns (total 21 columns):\n",
            " #   Column                        Non-Null Count  Dtype\n",
            "---  ------                        --------------  -----\n",
            " 0   anxiety_level                 1100 non-null   int64\n",
            " 1   self_esteem                   1100 non-null   int64\n",
            " 2   mental_health_history         1100 non-null   int64\n",
            " 3   depression                    1100 non-null   int64\n",
            " 4   headache                      1100 non-null   int64\n",
            " 5   blood_pressure                1100 non-null   int64\n",
            " 6   sleep_quality                 1100 non-null   int64\n",
            " 7   breathing_problem             1100 non-null   int64\n",
            " 8   noise_level                   1100 non-null   int64\n",
            " 9   living_conditions             1100 non-null   int64\n",
            " 10  safety                        1100 non-null   int64\n",
            " 11  basic_needs                   1100 non-null   int64\n",
            " 12  academic_performance          1100 non-null   int64\n",
            " 13  study_load                    1100 non-null   int64\n",
            " 14  teacher_student_relationship  1100 non-null   int64\n",
            " 15  future_career_concerns        1100 non-null   int64\n",
            " 16  social_support                1100 non-null   int64\n",
            " 17  peer_pressure                 1100 non-null   int64\n",
            " 18  extracurricular_activities    1100 non-null   int64\n",
            " 19  bullying                      1100 non-null   int64\n",
            " 20  stress_level                  1100 non-null   int64\n",
            "dtypes: int64(21)\n",
            "memory usage: 180.6 KB\n",
            "None\n",
            "\n",
            "Describe:\n",
            "       anxiety_level  self_esteem  mental_health_history   depression  \\\n",
            "count    1100.000000  1100.000000            1100.000000  1100.000000   \n",
            "mean       11.063636    17.777273               0.492727    12.555455   \n",
            "std         6.117558     8.944599               0.500175     7.727008   \n",
            "min         0.000000     0.000000               0.000000     0.000000   \n",
            "25%         6.000000    11.000000               0.000000     6.000000   \n",
            "50%        11.000000    19.000000               0.000000    12.000000   \n",
            "75%        16.000000    26.000000               1.000000    19.000000   \n",
            "max        21.000000    30.000000               1.000000    27.000000   \n",
            "\n",
            "          headache  blood_pressure  sleep_quality  breathing_problem  \\\n",
            "count  1100.000000     1100.000000    1100.000000        1100.000000   \n",
            "mean      2.508182        2.181818       2.660000           2.753636   \n",
            "std       1.409356        0.833575       1.548383           1.400713   \n",
            "min       0.000000        1.000000       0.000000           0.000000   \n",
            "25%       1.000000        1.000000       1.000000           2.000000   \n",
            "50%       3.000000        2.000000       2.500000           3.000000   \n",
            "75%       3.000000        3.000000       4.000000           4.000000   \n",
            "max       5.000000        3.000000       5.000000           5.000000   \n",
            "\n",
            "       noise_level  living_conditions  ...  basic_needs  academic_performance  \\\n",
            "count  1100.000000        1100.000000  ...  1100.000000           1100.000000   \n",
            "mean      2.649091           2.518182  ...     2.772727              2.772727   \n",
            "std       1.328127           1.119208  ...     1.433761              1.414594   \n",
            "min       0.000000           0.000000  ...     0.000000              0.000000   \n",
            "25%       2.000000           2.000000  ...     2.000000              2.000000   \n",
            "50%       3.000000           2.000000  ...     3.000000              2.000000   \n",
            "75%       3.000000           3.000000  ...     4.000000              4.000000   \n",
            "max       5.000000           5.000000  ...     5.000000              5.000000   \n",
            "\n",
            "        study_load  teacher_student_relationship  future_career_concerns  \\\n",
            "count  1100.000000                   1100.000000             1100.000000   \n",
            "mean      2.621818                      2.648182                2.649091   \n",
            "std       1.315781                      1.384579                1.529375   \n",
            "min       0.000000                      0.000000                0.000000   \n",
            "25%       2.000000                      2.000000                1.000000   \n",
            "50%       2.000000                      2.000000                2.000000   \n",
            "75%       3.000000                      4.000000                4.000000   \n",
            "max       5.000000                      5.000000                5.000000   \n",
            "\n",
            "       social_support  peer_pressure  extracurricular_activities     bullying  \\\n",
            "count     1100.000000    1100.000000                 1100.000000  1100.000000   \n",
            "mean         1.881818       2.734545                    2.767273     2.617273   \n",
            "std          1.047826       1.425265                    1.417562     1.530958   \n",
            "min          0.000000       0.000000                    0.000000     0.000000   \n",
            "25%          1.000000       2.000000                    2.000000     1.000000   \n",
            "50%          2.000000       2.000000                    2.500000     3.000000   \n",
            "75%          3.000000       4.000000                    4.000000     4.000000   \n",
            "max          3.000000       5.000000                    5.000000     5.000000   \n",
            "\n",
            "       stress_level  \n",
            "count   1100.000000  \n",
            "mean       0.996364  \n",
            "std        0.821673  \n",
            "min        0.000000  \n",
            "25%        0.000000  \n",
            "50%        1.000000  \n",
            "75%        2.000000  \n",
            "max        2.000000  \n",
            "\n",
            "[8 rows x 21 columns]\n",
            "\n",
            "Columns:\n",
            "Index(['anxiety_level', 'self_esteem', 'mental_health_history', 'depression',\n",
            "       'headache', 'blood_pressure', 'sleep_quality', 'breathing_problem',\n",
            "       'noise_level', 'living_conditions', 'safety', 'basic_needs',\n",
            "       'academic_performance', 'study_load', 'teacher_student_relationship',\n",
            "       'future_career_concerns', 'social_support', 'peer_pressure',\n",
            "       'extracurricular_activities', 'bullying', 'stress_level'],\n",
            "      dtype='object')\n"
          ]
        }
      ],
      "source": [
        "print(\"\\nInfo about the data types:\")\n",
        "print(df.info())\n",
        "print(\"\\nDescribe:\")\n",
        "print(df.describe())\n",
        "print(\"\\nColumns:\")\n",
        "print(df.columns)"
      ]
    },
    {
      "cell_type": "markdown",
      "metadata": {
        "id": "N0qf7JARQrZU"
      },
      "source": [
        "### Identifying Missing Values"
      ]
    },
    {
      "cell_type": "code",
      "execution_count": null,
      "metadata": {
        "id": "CLj90-UtQrZU",
        "outputId": "b0f12438-9eef-49f4-9a93-d6349f3e9d03"
      },
      "outputs": [
        {
          "name": "stdout",
          "output_type": "stream",
          "text": [
            "Missing Values per Column:\n",
            "anxiety_level                   0\n",
            "self_esteem                     0\n",
            "mental_health_history           0\n",
            "depression                      0\n",
            "headache                        0\n",
            "blood_pressure                  0\n",
            "sleep_quality                   0\n",
            "breathing_problem               0\n",
            "noise_level                     0\n",
            "living_conditions               0\n",
            "safety                          0\n",
            "basic_needs                     0\n",
            "academic_performance            0\n",
            "study_load                      0\n",
            "teacher_student_relationship    0\n",
            "future_career_concerns          0\n",
            "social_support                  0\n",
            "peer_pressure                   0\n",
            "extracurricular_activities      0\n",
            "bullying                        0\n",
            "stress_level                    0\n",
            "dtype: int64\n"
          ]
        }
      ],
      "source": [
        "print(\"Missing Values per Column:\")\n",
        "print(df.isnull().sum())"
      ]
    },
    {
      "cell_type": "markdown",
      "metadata": {
        "id": "4ajMcd7ZQrZU"
      },
      "source": [
        "### There's no data missing values"
      ]
    },
    {
      "cell_type": "code",
      "execution_count": null,
      "metadata": {
        "id": "Rwg_3xjCQrZU",
        "outputId": "89c8f927-9514-44c4-d187-ed8843401798"
      },
      "outputs": [
        {
          "name": "stdout",
          "output_type": "stream",
          "text": [
            "   anxiety_level  self_esteem  mental_health_history  depression  headache  \\\n",
            "0             14           20                      0          11         2   \n",
            "1             15            8                      1          15         5   \n",
            "2             12           18                      1          14         2   \n",
            "3             16           12                      1          15         4   \n",
            "4             16           28                      0           7         2   \n",
            "\n",
            "   blood_pressure  sleep_quality  breathing_problem  noise_level  \\\n",
            "0               1              2                  4            2   \n",
            "1               3              1                  4            3   \n",
            "2               1              2                  2            2   \n",
            "3               3              1                  3            4   \n",
            "4               3              5                  1            3   \n",
            "\n",
            "   living_conditions  ...  basic_needs  academic_performance  study_load  \\\n",
            "0                  3  ...            2                     3           2   \n",
            "1                  1  ...            2                     1           4   \n",
            "2                  2  ...            2                     2           3   \n",
            "3                  2  ...            2                     2           4   \n",
            "4                  2  ...            3                     4           3   \n",
            "\n",
            "   teacher_student_relationship  future_career_concerns  social_support  \\\n",
            "0                             3                       3               2   \n",
            "1                             1                       5               1   \n",
            "2                             3                       2               2   \n",
            "3                             1                       4               1   \n",
            "4                             1                       2               1   \n",
            "\n",
            "   peer_pressure  extracurricular_activities  bullying  stress_level  \n",
            "0              3                           3         2             1  \n",
            "1              4                           5         5             2  \n",
            "2              3                           2         2             1  \n",
            "3              4                           4         5             2  \n",
            "4              5                           0         5             1  \n",
            "\n",
            "[5 rows x 21 columns]\n"
          ]
        }
      ],
      "source": [
        "print(df.head())"
      ]
    },
    {
      "cell_type": "code",
      "source": [
        "import os\n",
        "import time\n",
        "import pandas as pd\n",
        "import matplotlib.pyplot as plt\n",
        "\n",
        "# ✅ Load sample data to write\n",
        "df = pd.read_csv(\"raw_data.csv\")\n",
        "\n",
        "# ✅ Method 1: Buffered writing using open()\n",
        "def write_buffered(df):\n",
        "    content = df.to_csv(index=False)\n",
        "    start = time.time()\n",
        "    with open(\"output_buffered.csv\", \"w\", buffering=1024) as f:\n",
        "        f.write(content)\n",
        "    return time.time() - start\n",
        "\n",
        "# ✅ Method 2: Pandas to_csv\n",
        "def write_pandas_csv(df):\n",
        "    start = time.time()\n",
        "    df.to_csv(\"output_pandas.csv\", index=False)\n",
        "    return time.time() - start\n",
        "\n",
        "# ✅ Method 3: Parquet format (binary)\n",
        "def write_parquet(df):\n",
        "    start = time.time()\n",
        "    df.to_parquet(\"output.parquet\")\n",
        "    return time.time() - start\n",
        "\n",
        "# ✅ Run all and collect timings\n",
        "timings = []\n",
        "timings.append((\"Buffered write\", write_buffered(df)))\n",
        "timings.append((\"Pandas CSV\", write_pandas_csv(df)))\n",
        "timings.append((\"Parquet format\", write_parquet(df)))\n",
        "\n",
        "# ✅ Show results\n",
        "for method, t in timings:\n",
        "    print(f\"{method} took {t:.4f} seconds\")\n",
        "\n",
        "# ✅ Plot the comparison\n",
        "labels = [x[0] for x in timings]\n",
        "times = [x[1] for x in timings]\n",
        "\n",
        "plt.figure(figsize=(6, 4))\n",
        "plt.bar(labels, times, color=[\"skyblue\", \"orange\", \"lightgreen\"])\n",
        "plt.ylabel(\"Time (seconds)\")\n",
        "plt.title(\"File Writing Method Benchmark\")\n",
        "plt.savefig(\"write_speed_comparison.png\")\n",
        "print(\"[📊] Plot saved as write_speed_comparison.png\")\n"
      ],
      "metadata": {
        "id": "bBz80FcBFIOa"
      },
      "execution_count": null,
      "outputs": []
    },
    {
      "cell_type": "code",
      "execution_count": null,
      "metadata": {
        "id": "jOSZXE9vQrZU",
        "outputId": "51e9db1c-f312-4f72-ae91-fafb1e39f147"
      },
      "outputs": [
        {
          "name": "stdout",
          "output_type": "stream",
          "text": [
            "CSV file saved successfully as 'processed_data.csv'!\n"
          ]
        }
      ],
      "source": [
        "try:\n",
        "    df.to_csv('../data/processed_data.csv', index=False)\n",
        "    print(\"CSV file saved successfully as 'processed_data.csv'!\")\n",
        "except Exception as e:\n",
        "    print(\"Error: CSV file unsuccessfully saved\")"
      ]
    }
  ],
  "metadata": {
    "kernelspec": {
      "display_name": "Python 3 (ipykernel)",
      "language": "python",
      "name": "python3"
    },
    "language_info": {
      "codemirror_mode": {
        "name": "ipython",
        "version": 3
      },
      "file_extension": ".py",
      "mimetype": "text/x-python",
      "name": "python",
      "nbconvert_exporter": "python",
      "pygments_lexer": "ipython3",
      "version": "3.12.3"
    },
    "colab": {
      "provenance": []
    }
  },
  "nbformat": 4,
  "nbformat_minor": 0
}