{
  "nbformat": 4,
  "nbformat_minor": 0,
  "metadata": {
    "colab": {
      "provenance": []
    },
    "kernelspec": {
      "name": "python3",
      "display_name": "Python 3"
    },
    "language_info": {
      "name": "python"
    }
  },
  "cells": [
    {
      "cell_type": "markdown",
      "source": [
        "# We use two visualiztion method: Seaborn and Altair.\n",
        "Then we monitor the performance\n",
        "\n",
        "\n",
        "\n"
      ],
      "metadata": {
        "id": "pFJbicKc1b5J"
      }
    },
    {
      "cell_type": "code",
      "execution_count": 1,
      "metadata": {
        "id": "-LDVo8w40mS_"
      },
      "outputs": [],
      "source": [
        "import pandas as pd\n",
        "import seaborn as sns\n",
        "import altair as alt\n",
        "import matplotlib.pyplot as plt\n",
        "import psutil\n",
        "import time\n",
        "import multiprocessing\n",
        "import os"
      ]
    },
    {
      "cell_type": "markdown",
      "source": [
        "Load the processed data."
      ],
      "metadata": {
        "id": "dob0NOxc07CB"
      }
    },
    {
      "cell_type": "code",
      "source": [
        "file_path = 'processed_data.csv'\n",
        "\n",
        "# // Read the CSV file into a DataFrame then sample it.\n",
        "df = pd.read_csv(file_path)\n",
        "df_numeric = df.select_dtypes(include=['float64', 'int64'])\n",
        "df_sampled = df_numeric.sample(n=min(1000, len(df_numeric)), random_state=42)"
      ],
      "metadata": {
        "id": "4TibsiO_0zbb"
      },
      "execution_count": 2,
      "outputs": []
    },
    {
      "cell_type": "markdown",
      "source": [
        "A function to monitor each method's performance"
      ],
      "metadata": {
        "id": "yypkz04D1W_e"
      }
    },
    {
      "cell_type": "code",
      "source": [
        "def monitor_performance(target_func, output_queue, timing_queue, label):\n",
        "    try:\n",
        "        process = psutil.Process(os.getpid())\n",
        "        mem_before = process.memory_info().rss / 1024 ** 2\n",
        "        cpu_before = process.cpu_percent(interval=0.1)\n",
        "        start = time.time()\n",
        "\n",
        "        # Run the actual visualization function\n",
        "        target_func()\n",
        "\n",
        "        elapsed = time.time() - start\n",
        "        mem_after = process.memory_info().rss / 1024 ** 2\n",
        "        cpu_after = process.cpu_percent(interval=0.1)\n",
        "\n",
        "        output_queue.put(f\"[{label}] Visualization completed successfully.\")\n",
        "        timing_queue.put((label, round(elapsed, 4), round(mem_after - mem_before, 2), round((cpu_before + cpu_after) / 2, 2)))\n",
        "    except Exception as e:\n",
        "        output_queue.put(f\"[{label} ERROR] {str(e)}\")"
      ],
      "metadata": {
        "id": "mQLM3F4V1Qu9"
      },
      "execution_count": 3,
      "outputs": []
    },
    {
      "cell_type": "code",
      "source": [
        "# Visualization Method 1: Seaborn Heatmap\n",
        "def seaborn_heatmap():\n",
        "    df = df_sampled\n",
        "    plt.figure(figsize=(10, 8))\n",
        "    sns.heatmap(df.corr(), cmap='coolwarm')\n",
        "    plt.title(\"Seaborn Heatmap\")\n",
        "    plt.tight_layout()\n",
        "    plt.savefig(\"seaborn_heatmap.png\")\n",
        "    plt.close()\n"
      ],
      "metadata": {
        "id": "MlHNlPj11urJ"
      },
      "execution_count": 4,
      "outputs": []
    },
    {
      "cell_type": "code",
      "source": [
        "# Visualization Method 2: Altair Interactive Heatmap\n",
        "def altair_heatmap():\n",
        "    df = df_sampled\n",
        "    corr = df.corr().stack().reset_index()\n",
        "    corr.columns = ['feature1', 'feature2', 'correlation']\n",
        "    chart = alt.Chart(corr).mark_rect().encode(\n",
        "        x='feature1:O',\n",
        "        y='feature2:O',\n",
        "        color='correlation:Q'\n",
        "    ).properties(width=500, height=400)\n",
        "    chart.save(\"altair_heatmap.html\")"
      ],
      "metadata": {
        "id": "acloe-K_1xxy"
      },
      "execution_count": 5,
      "outputs": []
    },
    {
      "cell_type": "code",
      "source": [
        "def plot_results(timings):\n",
        "    df = pd.DataFrame(timings, columns=[\"Method\", \"Time (s)\", \"Memory (MB)\", \"Avg CPU (%)\"])\n",
        "    print(\"\\n📊 Performance Table:\\n\", df)\n",
        "\n",
        "    fig, axs = plt.subplots(1, 2, figsize=(16, 5))\n",
        "\n",
        "    axs[0].bar(df[\"Method\"], df[\"Time (s)\"], color=['skyblue', 'lightgreen'])\n",
        "    axs[0].set_title(\"Execution Time (s)\")\n",
        "\n",
        "    axs[1].bar(df[\"Method\"], df[\"Memory (MB)\"], color=['skyblue', 'lightgreen'])\n",
        "    axs[1].set_title(\"Memory Usage (MB)\")\n",
        "\n",
        "\n",
        "    plt.suptitle(\"Visualization Method Performance Comparison\")\n",
        "    plt.tight_layout(rect=[0, 0, 1, 0.95])\n",
        "    plt.savefig(\"visualization_comparison.png\")\n",
        "    plt.show()"
      ],
      "metadata": {
        "id": "vfMkDsF82R5i"
      },
      "execution_count": 6,
      "outputs": []
    },
    {
      "cell_type": "code",
      "source": [
        "# ✅ Main Execution\n",
        "if __name__ == '__main__':\n",
        "\n",
        "\n",
        "    output_queue1 = multiprocessing.Queue()\n",
        "    output_queue2 = multiprocessing.Queue()\n",
        "    timing_queue = multiprocessing.Queue()\n",
        "\n",
        "    print(\"\\n[PROCESS SCHEDULING] Starting subprocesses...\")\n",
        "\n",
        "    p1 = multiprocessing.Process(\n",
        "        target=monitor_performance,\n",
        "        args=(seaborn_heatmap, output_queue1, timing_queue, \"Seaborn\")\n",
        "    )\n",
        "    p2 = multiprocessing.Process(\n",
        "        target=monitor_performance,\n",
        "        args=(altair_heatmap, output_queue2, timing_queue, \"Altair\")\n",
        "    )\n",
        "\n",
        "    p1.start()\n",
        "    p2.start()\n",
        "    p1.join()\n",
        "    p2.join()\n",
        "\n",
        "    print(\"\\n--- Seaborn Output ---\")\n",
        "    while not output_queue1.empty():\n",
        "        print(output_queue1.get())\n",
        "\n",
        "    print(\"\\n--- Altair Output ---\")\n",
        "    while not output_queue2.empty():\n",
        "        print(output_queue2.get())\n",
        "\n",
        "    timings = []\n",
        "    while not timing_queue.empty():\n",
        "        timings.append(timing_queue.get())\n",
        "\n",
        "    plot_results(timings)\n",
        "    print(\"\\n[DONE] Visualization performance benchmarking completed.\")"
      ],
      "metadata": {
        "colab": {
          "base_uri": "https://localhost:8080/",
          "height": 792
        },
        "id": "lcj9Zr0m2V7D",
        "outputId": "76bf140e-e883-456e-e47d-f7da655aa4d2"
      },
      "execution_count": 8,
      "outputs": [
        {
          "output_type": "stream",
          "name": "stdout",
          "text": [
            "\n",
            "[PROCESS SCHEDULING] Starting subprocesses...\n",
            "\n",
            "--- Seaborn Output ---\n",
            "[Seaborn] Visualization completed successfully.\n",
            "\n",
            "--- Altair Output ---\n",
            "[Altair] Visualization completed successfully.\n",
            "\n",
            "📊 Performance Table:\n",
            "     Method  Time (s)  Memory (MB)  Avg CPU (%)\n",
            "0   Altair    0.1433         8.76          0.0\n",
            "1  Seaborn    0.9441        16.77          0.0\n"
          ]
        },
        {
          "output_type": "display_data",
          "data": {
            "text/plain": [
              "<Figure size 1600x500 with 2 Axes>"
            ],
            "image/png": "[encoded data removed]"
          },
          "metadata": {}
        },
        {
          "output_type": "stream",
          "name": "stdout",
          "text": [
            "\n",
            "[DONE] Visualization performance benchmarking completed.\n"
          ]
        }
      ]
    },
    {
      "cell_type": "markdown",
      "source": [
        "Visualize the performances of the two method."
      ],
      "metadata": {
        "id": "ZRad9KTM2x5-"
      }
    },
    {
      "cell_type": "code",
      "source": [],
      "metadata": {
        "id": "nMYl4T_kG30C"
      },
      "execution_count": null,
      "outputs": []
    }
  ]
}